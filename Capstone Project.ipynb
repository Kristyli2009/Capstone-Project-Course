{
 "cells": [
  {
   "cell_type": "markdown",
   "metadata": {
    "collapsed": true
   },
   "source": [
    "# Capstone Project - The Battle of Neighborhoods"
   ]
  },
  {
   "cell_type": "markdown",
   "metadata": {},
   "source": [
    "## Compare and Analyze Data of Two Cities: Raleigh, NC and Atlanta, GA\n",
    "## House Sale & Rent Prices and Venues Data Analysis of the Optimal City"
   ]
  },
  {
   "cell_type": "markdown",
   "metadata": {},
   "source": [
    "## Table of contents\n",
    "* [Introduction: Business Problem](#introduction)\n",
    "* [Data](#data)\n",
    "* [Methodology](#methodology)\n",
    "* [Analysis](#analysis)\n",
    "* [Results and Discussion](#results)\n",
    "* [Conclusion](#conclusion)"
   ]
  },
  {
   "cell_type": "markdown",
   "metadata": {},
   "source": [
    "## Introduction: Business Problem <a name=\"introduction\"></a>"
   ]
  },
  {
   "cell_type": "markdown",
   "metadata": {},
   "source": [
    "Many middle-class people plan to move out New York City due to **high tax**, **high houses' sale price**, **high houses' rental price**, **poor housing**, **crowed city**, **education quality declining**, and **poor security**. \n",
    "\n",
    "The problem is many of these people would like to know which city will be a optimal place to move to. Which location of the optimal city will be the better place to live in. What popular venues are around this location? What are the houses' sale prices or rental prices around this location? \n",
    "\n",
    "In this project, I will gather, compare, and analyze the data about two cities: **Atlanta, Georgia** and **Raleigh, North Carolina** that a stakeholder interested in moving to based on the optimal criteria. After finding the optimal city, the project will help to find the optimal locations to move to and what the popular spots around these optimal locations using FourSquare API and add them to a map. In addition, the project will webscrape data of the **houses for sale** and **houses for rent**, **prices**, and **locations** around the optimal areas from the Zillow website and add the data to the map."
   ]
  },
  {
   "cell_type": "markdown",
   "metadata": {},
   "source": [
    "## Data <a name=\"data\"></a>"
   ]
  },
  {
   "cell_type": "markdown",
   "metadata": {},
   "source": [
    "Based on definition of the problem, I will need data:\n",
    "* From the AreaVibes websites what locals think about their city, rating of different categories, and top rated schools\n",
    "* From the Census website for population data\n",
    "* From the Zillow website for houses' sales & rental\n",
    "* FourSqure API\n",
    "\n",
    "Steps need to take to solve the problem:\n",
    "1. Webscrape data about Atlanta, Georgia and Raleigh, North Carolina from **AreaVibes** and **United States Census** using **Request** and **BeautifulSoup** \n",
    "2. Compare and analyze data to find out which city is opitmal to move to using **Pandas** for analysis and **Matplotlib** for visualization and comparision\n",
    "3. Get the top rated schools' data of the opitmal city from **AreaVibes** and find the optimal centroid spots around these schools using **Geopy.geocoders**\n",
    "4. Explore popular spots of each optimal centroid using **Request** and **FourSquare API**\n",
    "5. Find houses' sale & rental data around each optimal cetnroid by webscraping data from **Zillow** using **Request** and **BeautifulSoup**\n",
    "6. Mark these spots/places on a map using **Folium**\n",
    "7. Serch a specific venue and find rating and tips about the specific venue using **Request** and **FourSquare API**\n"
   ]
  },
  {
   "cell_type": "code",
   "execution_count": null,
   "metadata": {},
   "outputs": [],
   "source": []
  }
 ],
 "metadata": {
  "kernelspec": {
   "display_name": "Python 3",
   "language": "python",
   "name": "python3"
  },
  "language_info": {
   "codemirror_mode": {
    "name": "ipython",
    "version": 3
   },
   "file_extension": ".py",
   "mimetype": "text/x-python",
   "name": "python",
   "nbconvert_exporter": "python",
   "pygments_lexer": "ipython3",
   "version": "3.8.8"
  }
 },
 "nbformat": 4,
 "nbformat_minor": 1
}
